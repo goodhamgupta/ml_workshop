{
 "cells": [
  {
   "cell_type": "code",
   "execution_count": 1,
   "metadata": {},
   "outputs": [],
   "source": [
    "# from preamble import *\n",
    "# %matplotlib inline\n",
    "import pandas as pd"
   ]
  },
  {
   "cell_type": "markdown",
   "metadata": {},
   "source": [
    "### Naive Bayes classifier"
   ]
  },
  {
   "cell_type": "markdown",
   "metadata": {},
   "source": [
    "- is probabilistic method that uses the probabilities of each attribute belonging to each (target) class to make a prediction.\n",
    "\n",
    "\n",
    "- simplifies the calculation of probabilities by assuming that the probability of each attribute belonging to a given class value is independent of all other attributes. This is a strong assumption but results in a fast and effective method.\n",
    "\n",
    "\n",
    "- The probability of a class value given a value of an attribute is called the conditional probability. By multiplying the conditional probabilities together for each attribute for a given class value, we have a probability of a data instance belonging to that class.\n",
    "\n",
    "\n",
    "- To make a prediction we can calculate probabilities of the instance belonging to each class and select the class value with the highest probability.\n",
    "\n",
    "\n",
    "- Like the previous samples, we are going to predict whether a row belongs to one of the two classes - contained within the `Malignant` column."
   ]
  },
  {
   "cell_type": "code",
   "execution_count": 2,
   "metadata": {},
   "outputs": [],
   "source": [
    "cancer_df = pd.read_csv('data/breast_cancer_wisconsin/full.csv', index_col=0)"
   ]
  },
  {
   "cell_type": "code",
   "execution_count": 3,
   "metadata": {},
   "outputs": [
    {
     "data": {
      "text/html": [
       "<div>\n",
       "<style scoped>\n",
       "    .dataframe tbody tr th:only-of-type {\n",
       "        vertical-align: middle;\n",
       "    }\n",
       "\n",
       "    .dataframe tbody tr th {\n",
       "        vertical-align: top;\n",
       "    }\n",
       "\n",
       "    .dataframe thead th {\n",
       "        text-align: right;\n",
       "    }\n",
       "</style>\n",
       "<table border=\"1\" class=\"dataframe\">\n",
       "  <thead>\n",
       "    <tr style=\"text-align: right;\">\n",
       "      <th></th>\n",
       "      <th>Clump Thickness</th>\n",
       "      <th>Uniformity of Cell Size</th>\n",
       "      <th>Uniformity of Cell Shape</th>\n",
       "      <th>Marginal Adhesion</th>\n",
       "      <th>Single Epithelial Cell Size</th>\n",
       "      <th>Bare Nuclei</th>\n",
       "      <th>Bland Chromatin</th>\n",
       "      <th>Normal Nucleoli</th>\n",
       "      <th>Mitoses</th>\n",
       "      <th>Malignant</th>\n",
       "    </tr>\n",
       "  </thead>\n",
       "  <tbody>\n",
       "    <tr>\n",
       "      <th>1000025</th>\n",
       "      <td>5</td>\n",
       "      <td>1</td>\n",
       "      <td>1</td>\n",
       "      <td>1</td>\n",
       "      <td>2</td>\n",
       "      <td>1</td>\n",
       "      <td>3</td>\n",
       "      <td>1</td>\n",
       "      <td>1</td>\n",
       "      <td>0</td>\n",
       "    </tr>\n",
       "    <tr>\n",
       "      <th>1002945</th>\n",
       "      <td>5</td>\n",
       "      <td>4</td>\n",
       "      <td>4</td>\n",
       "      <td>5</td>\n",
       "      <td>7</td>\n",
       "      <td>10</td>\n",
       "      <td>3</td>\n",
       "      <td>2</td>\n",
       "      <td>1</td>\n",
       "      <td>0</td>\n",
       "    </tr>\n",
       "    <tr>\n",
       "      <th>1015425</th>\n",
       "      <td>3</td>\n",
       "      <td>1</td>\n",
       "      <td>1</td>\n",
       "      <td>1</td>\n",
       "      <td>2</td>\n",
       "      <td>2</td>\n",
       "      <td>3</td>\n",
       "      <td>1</td>\n",
       "      <td>1</td>\n",
       "      <td>0</td>\n",
       "    </tr>\n",
       "    <tr>\n",
       "      <th>1016277</th>\n",
       "      <td>6</td>\n",
       "      <td>8</td>\n",
       "      <td>8</td>\n",
       "      <td>1</td>\n",
       "      <td>3</td>\n",
       "      <td>4</td>\n",
       "      <td>3</td>\n",
       "      <td>7</td>\n",
       "      <td>1</td>\n",
       "      <td>0</td>\n",
       "    </tr>\n",
       "    <tr>\n",
       "      <th>1017023</th>\n",
       "      <td>4</td>\n",
       "      <td>1</td>\n",
       "      <td>1</td>\n",
       "      <td>3</td>\n",
       "      <td>2</td>\n",
       "      <td>1</td>\n",
       "      <td>3</td>\n",
       "      <td>1</td>\n",
       "      <td>1</td>\n",
       "      <td>0</td>\n",
       "    </tr>\n",
       "  </tbody>\n",
       "</table>\n",
       "</div>"
      ],
      "text/plain": [
       "         Clump Thickness  Uniformity of Cell Size  Uniformity of Cell Shape  \\\n",
       "1000025                5                        1                         1   \n",
       "1002945                5                        4                         4   \n",
       "1015425                3                        1                         1   \n",
       "1016277                6                        8                         8   \n",
       "1017023                4                        1                         1   \n",
       "\n",
       "         Marginal Adhesion  Single Epithelial Cell Size  Bare Nuclei  \\\n",
       "1000025                  1                            2            1   \n",
       "1002945                  5                            7           10   \n",
       "1015425                  1                            2            2   \n",
       "1016277                  1                            3            4   \n",
       "1017023                  3                            2            1   \n",
       "\n",
       "         Bland Chromatin  Normal Nucleoli  Mitoses  Malignant  \n",
       "1000025                3                1        1          0  \n",
       "1002945                3                2        1          0  \n",
       "1015425                3                1        1          0  \n",
       "1016277                3                7        1          0  \n",
       "1017023                3                1        1          0  "
      ]
     },
     "execution_count": 3,
     "metadata": {},
     "output_type": "execute_result"
    }
   ],
   "source": [
    "cancer_df.head()"
   ]
  },
  {
   "cell_type": "markdown",
   "metadata": {},
   "source": [
    "#### How does Naive Bayes work - \n",
    "\n",
    "1. Calculating class probabilities"
   ]
  },
  {
   "cell_type": "code",
   "execution_count": 11,
   "metadata": {},
   "outputs": [
    {
     "name": "stdout",
     "output_type": "stream",
     "text": [
      "Unique classes:  [0 1]\n"
     ]
    }
   ],
   "source": [
    "# count number of classes \n",
    "print(\"Unique classes: \", cancer_df.Malignant.unique())"
   ]
  },
  {
   "cell_type": "code",
   "execution_count": 12,
   "metadata": {},
   "outputs": [
    {
     "name": "stdout",
     "output_type": "stream",
     "text": [
      "probability of patient having a malignant case (Malignant = 1):  34.48\n"
     ]
    }
   ],
   "source": [
    "print(\"probability of patient having a malignant case (Malignant = 1): \", round(cancer_df[cancer_df.Malignant == 1].shape[0]/cancer_df.shape[0] * 100, 2))"
   ]
  },
  {
   "cell_type": "code",
   "execution_count": 13,
   "metadata": {},
   "outputs": [
    {
     "name": "stdout",
     "output_type": "stream",
     "text": [
      "probability of patient not having a malignant case (Malignant = 0):  65.52\n"
     ]
    }
   ],
   "source": [
    "print(\"probability of patient not having a malignant case (Malignant = 0): \", round(cancer_df[cancer_df.Malignant == 0].shape[0]/cancer_df.shape[0] * 100, 2))"
   ]
  },
  {
   "cell_type": "markdown",
   "metadata": {},
   "source": [
    "- Calculating Conditional Probabilities\n",
    "\n",
    "The conditional probabilities are the frequency of each attribute value for a given class value divided by the frequency of instances with that class value."
   ]
  },
  {
   "cell_type": "code",
   "execution_count": 16,
   "metadata": {},
   "outputs": [
    {
     "name": "stdout",
     "output_type": "stream",
     "text": [
      "Number of unique values in Normal Nucleoli column:  10\n"
     ]
    }
   ],
   "source": [
    "# For a moment let's assume that the columns are actually categories encoded as integers\n",
    "# For example, in the case of the Normal Nucleoli column\n",
    "print(\"Number of unique values in Normal Nucleoli column: \", cancer_df['Normal Nucleoli'].nunique())"
   ]
  },
  {
   "cell_type": "code",
   "execution_count": 17,
   "metadata": {},
   "outputs": [
    {
     "data": {
      "text/plain": [
       "array([ 1,  2,  7,  4,  5,  3, 10,  6,  9,  8])"
      ]
     },
     "execution_count": 17,
     "metadata": {},
     "output_type": "execute_result"
    }
   ],
   "source": [
    "cancer_df['Normal Nucleoli'].unique()"
   ]
  },
  {
   "cell_type": "markdown",
   "metadata": {},
   "source": [
    "For the \"category\" of 1, in the case of Normal Nucleoli, the conditional probability would be : "
   ]
  },
  {
   "cell_type": "code",
   "execution_count": 29,
   "metadata": {},
   "outputs": [
    {
     "name": "stdout",
     "output_type": "stream",
     "text": [
      "P(Normal Nucleoli=1|Malignant=0) OR Conditional probability of Normal Nucleoli being of the class 1 and Malignancy being 0 is:  87.77292576419214\n"
     ]
    }
   ],
   "source": [
    "numerator = cancer_df[(cancer_df.Malignant== 0) & (cancer_df['Normal Nucleoli'] == 1)].shape[0]\n",
    "denominator = cancer_df[(cancer_df.Malignant== 0)].shape[0]\n",
    "print(\"P(Normal Nucleoli=1|Malignant=0) OR Conditional probability of Normal Nucleoli being of the class 1 and Malignancy being 0 is: \", numerator/float(denominator) * 100)"
   ]
  },
  {
   "cell_type": "code",
   "execution_count": 30,
   "metadata": {},
   "outputs": [
    {
     "name": "stdout",
     "output_type": "stream",
     "text": [
      "P(Normal Nucleoli=1|Malignant=0) OR Conditional probability of Normal Nucleoli being of the 'class' 1 and Malignancy being 0 is: 87.77292576419214\n",
      "P(Normal Nucleoli=2|Malignant=0) OR Conditional probability of Normal Nucleoli being of the 'class' 2 and Malignancy being 0 is: 6.550218340611353\n",
      "P(Normal Nucleoli=3|Malignant=0) OR Conditional probability of Normal Nucleoli being of the 'class' 3 and Malignancy being 0 is: 2.6200873362445414\n",
      "P(Normal Nucleoli=4|Malignant=0) OR Conditional probability of Normal Nucleoli being of the 'class' 4 and Malignancy being 0 is: 0.21834061135371177\n",
      "P(Normal Nucleoli=5|Malignant=0) OR Conditional probability of Normal Nucleoli being of the 'class' 5 and Malignancy being 0 is: 0.43668122270742354\n",
      "P(Normal Nucleoli=6|Malignant=0) OR Conditional probability of Normal Nucleoli being of the 'class' 6 and Malignancy being 0 is: 0.8733624454148471\n",
      "P(Normal Nucleoli=7|Malignant=0) OR Conditional probability of Normal Nucleoli being of the 'class' 7 and Malignancy being 0 is: 0.43668122270742354\n",
      "P(Normal Nucleoli=8|Malignant=0) OR Conditional probability of Normal Nucleoli being of the 'class' 8 and Malignancy being 0 is: 0.8733624454148471\n",
      "P(Normal Nucleoli=9|Malignant=0) OR Conditional probability of Normal Nucleoli being of the 'class' 9 and Malignancy being 0 is: 0.21834061135371177\n",
      "P(Normal Nucleoli=10|Malignant=0) OR Conditional probability of Normal Nucleoli being of the 'class' 10 and Malignancy being 0 is: 0.0\n"
     ]
    }
   ],
   "source": [
    "# Let's repeat the same for other \"types\" of Normal Nucleoli, when sample is benign or Malginant=0\n",
    "unique_values = sorted(cancer_df['Normal Nucleoli'].unique())\n",
    "for x_nucleoli in unique_values:\n",
    "    numerator = cancer_df[(cancer_df.Malignant== 0) & (cancer_df['Normal Nucleoli'] == x_nucleoli)].shape[0]\n",
    "    denominator = cancer_df[(cancer_df.Malignant== 0)].shape[0]\n",
    "    prob = numerator/float(denominator) * 100\n",
    "    print(f\"P(Normal Nucleoli={x_nucleoli}|Malignant=0) OR Conditional probability of Normal Nucleoli being of the 'class' {x_nucleoli} and Malignancy being 0 is: {prob}\") "
   ]
  },
  {
   "cell_type": "markdown",
   "metadata": {},
   "source": [
    "Let's repeat the same process for a malignant sample where Malignant = 1"
   ]
  },
  {
   "cell_type": "code",
   "execution_count": 25,
   "metadata": {},
   "outputs": [
    {
     "name": "stdout",
     "output_type": "stream",
     "text": [
      "Conditional probability of Normal Nucleoli being of the class 1 and Malignancy being 1 is: 17.012448132780083\n",
      "Conditional probability of Normal Nucleoli being of the class 2 and Malignancy being 1 is: 2.4896265560165975\n",
      "Conditional probability of Normal Nucleoli being of the class 3 and Malignancy being 1 is: 13.278008298755188\n",
      "Conditional probability of Normal Nucleoli being of the class 4 and Malignancy being 1 is: 7.053941908713693\n",
      "Conditional probability of Normal Nucleoli being of the class 5 and Malignancy being 1 is: 7.053941908713693\n",
      "Conditional probability of Normal Nucleoli being of the class 6 and Malignancy being 1 is: 7.468879668049793\n",
      "Conditional probability of Normal Nucleoli being of the class 7 and Malignancy being 1 is: 5.809128630705394\n",
      "Conditional probability of Normal Nucleoli being of the class 8 and Malignancy being 1 is: 8.29875518672199\n",
      "Conditional probability of Normal Nucleoli being of the class 9 and Malignancy being 1 is: 6.224066390041494\n",
      "Conditional probability of Normal Nucleoli being of the class 10 and Malignancy being 1 is: 25.311203319502074\n"
     ]
    }
   ],
   "source": [
    "# Let's repeat the same for other \"types\" of Normal Nucleoli, when sample is benign or Malginant=0\n",
    "unique_values = sorted(cancer_df['Normal Nucleoli'].unique())\n",
    "for x_nucleoli in unique_values:\n",
    "    numerator = cancer_df[(cancer_df.Malignant== 1) & (cancer_df['Normal Nucleoli'] == x_nucleoli)].shape[0]\n",
    "    denominator = cancer_df[(cancer_df.Malignant== 1)].shape[0]\n",
    "    prob = numerator/float(denominator) * 100\n",
    "    print(f\"Conditional probability of Normal Nucleoli being of the class {x_nucleoli} and Malignancy being 1 is: {prob}\") "
   ]
  },
  {
   "cell_type": "markdown",
   "metadata": {},
   "source": [
    "### Predicting with the learnt data"
   ]
  },
  {
   "cell_type": "markdown",
   "metadata": {},
   "source": [
    "  "
   ]
  },
  {
   "cell_type": "markdown",
   "metadata": {},
   "source": [
    "Again, for a new instance of Normal Nucleoli, we would calculate the probability as follows:"
   ]
  },
  {
   "cell_type": "markdown",
   "metadata": {},
   "source": [
    "new_nn_non_malignant = `P(Normal Nucleoli=new_x | Malignant=0)` * `P(Malignant=0)`\n",
    "\n",
    "new_nn_malignant = `P(Normal Nucleoli=new_x | Malignant=1)` * `P(Malignant=1)`"
   ]
  },
  {
   "cell_type": "markdown",
   "metadata": {},
   "source": [
    "   "
   ]
  },
  {
   "cell_type": "markdown",
   "metadata": {},
   "source": [
    "For this new instance of data, Naive Bayes will calculate the probability of Malignant being 0 or 1, and choose the class with the maximum value - "
   ]
  },
  {
   "cell_type": "markdown",
   "metadata": {},
   "source": [
    "P(Malignant=0 | Normal Nucleoli=new_x) = `new_nn_non_malignant` / (`new_nn_non_malignant` + `new_nn_malignant`)\n",
    "\n",
    "P(Malignant=1 | Normal Nucleoli=new_x) = `new_nn_malignant` / (`new_nn_non_malignant` + `new_nn_malignant`)"
   ]
  },
  {
   "cell_type": "markdown",
   "metadata": {},
   "source": [
    "  "
   ]
  },
  {
   "cell_type": "markdown",
   "metadata": {},
   "source": [
    "The class with the max probability above will be the new predicted class."
   ]
  },
  {
   "cell_type": "markdown",
   "metadata": {},
   "source": [
    "### Using sklearn"
   ]
  },
  {
   "cell_type": "code",
   "execution_count": 37,
   "metadata": {},
   "outputs": [],
   "source": [
    "from sklearn.naive_bayes import GaussianNB\n",
    "from sklearn.model_selection import train_test_split\n",
    "from sklearn.metrics import accuracy_score"
   ]
  },
  {
   "cell_type": "code",
   "execution_count": 35,
   "metadata": {},
   "outputs": [],
   "source": [
    "train, target = cancer_df.drop('Malignant', 1), cancer_df.Malignant\n",
    "train_x, train_y, test_x, test_y = train_test_split(train, target, train_size=0.6)"
   ]
  },
  {
   "cell_type": "code",
   "execution_count": 36,
   "metadata": {},
   "outputs": [
    {
     "data": {
      "text/plain": [
       "GaussianNB(priors=None, var_smoothing=1e-09)"
      ]
     },
     "execution_count": 36,
     "metadata": {},
     "output_type": "execute_result"
    }
   ],
   "source": [
    "#Create a Gaussian Classifier\n",
    "model = GaussianNB()\n",
    "\n",
    "# Train the model using the training sets\n",
    "model.fit(train_x, test_x)\n",
    "\n",
    "#Predict Output\n",
    "# predicted= model.predict([[0,2]]) # 0:Overcast, 2:Mild\n",
    "# print \"Predicted Value:\", predicted"
   ]
  },
  {
   "cell_type": "code",
   "execution_count": 39,
   "metadata": {},
   "outputs": [
    {
     "data": {
      "text/plain": [
       "0.9607142857142857"
      ]
     },
     "execution_count": 39,
     "metadata": {},
     "output_type": "execute_result"
    }
   ],
   "source": [
    "predicted = model.predict(train_y)\n",
    "accuracy_score(predicted, test_y)\n",
    "\n",
    "#woohoo"
   ]
  },
  {
   "cell_type": "code",
   "execution_count": null,
   "metadata": {},
   "outputs": [],
   "source": []
  }
 ],
 "metadata": {
  "kernelspec": {
   "display_name": "Python 3",
   "language": "python",
   "name": "python3"
  },
  "language_info": {
   "codemirror_mode": {
    "name": "ipython",
    "version": 3
   },
   "file_extension": ".py",
   "mimetype": "text/x-python",
   "name": "python",
   "nbconvert_exporter": "python",
   "pygments_lexer": "ipython3",
   "version": "3.6.0"
  }
 },
 "nbformat": 4,
 "nbformat_minor": 2
}
